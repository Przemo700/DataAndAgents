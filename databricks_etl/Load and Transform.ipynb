{
 "cells": [
  {
   "cell_type": "code",
   "execution_count": 0,
   "metadata": {
    "application/vnd.databricks.v1+cell": {
     "cellMetadata": {
      "byteLimit": 2048000,
      "rowLimit": 10000
     },
     "inputWidgets": {},
     "nuid": "34b20bf8-715a-4412-acfc-32ad400ba9f9",
     "showTitle": false,
     "tableResultSettingsMap": {},
     "title": ""
    }
   },
   "outputs": [
    {
     "output_type": "stream",
     "name": "stdout",
     "output_type": "stream",
     "text": [
      "\u001B[43mNote: you may need to restart the kernel using %restart_python or dbutils.library.restartPython() to use updated packages.\u001B[0m\n"
     ]
    }
   ],
   "source": [
    "%pip install google-genai eurostat --quiet"
   ]
  },
  {
   "cell_type": "code",
   "execution_count": 0,
   "metadata": {
    "application/vnd.databricks.v1+cell": {
     "cellMetadata": {
      "byteLimit": 2048000,
      "rowLimit": 10000
     },
     "inputWidgets": {},
     "nuid": "d0e99e42-6774-4047-bc44-9b6bf53110f8",
     "showTitle": false,
     "tableResultSettingsMap": {},
     "title": ""
    }
   },
   "outputs": [],
   "source": [
    "import eurostat\n",
    "from google import genai\n",
    "from pydantic import BaseModel\n",
    "from pyspark.sql.functions import substring, length, regexp_replace, when, col, sum, max\n",
    "from pyspark.sql.types import IntegerType\n",
    "import re\n",
    "import json"
   ]
  },
  {
   "cell_type": "markdown",
   "metadata": {
    "application/vnd.databricks.v1+cell": {
     "cellMetadata": {},
     "inputWidgets": {},
     "nuid": "9491db76-75be-41c3-97ac-f2bd6bc82306",
     "showTitle": false,
     "tableResultSettingsMap": {},
     "title": ""
    }
   },
   "source": [
    "#### Eurostat Fact Tables\n",
    "Description of eurostat module: https://pypi.org/project/eurostat/<br>\n",
    "Eurostat database: https://ec.europa.eu/eurostat/databrowser/explore/all/"
   ]
  },
  {
   "cell_type": "markdown",
   "metadata": {
    "application/vnd.databricks.v1+cell": {
     "cellMetadata": {},
     "inputWidgets": {},
     "nuid": "9fb209ba-748e-41c4-bca1-36e8f09e35a9",
     "showTitle": false,
     "tableResultSettingsMap": {},
     "title": ""
    }
   },
   "source": [
    "##### Define functions for data loading"
   ]
  },
  {
   "cell_type": "code",
   "execution_count": 0,
   "metadata": {
    "application/vnd.databricks.v1+cell": {
     "cellMetadata": {
      "byteLimit": 2048000,
      "rowLimit": 10000
     },
     "inputWidgets": {},
     "nuid": "3fe27706-c17e-4396-a72e-70f9cfc682f1",
     "showTitle": false,
     "tableResultSettingsMap": {},
     "title": ""
    }
   },
   "outputs": [],
   "source": [
    "def get_data_spark_df(code):\n",
    "\n",
    "    data = eurostat.get_data(code)\n",
    "    header = [h.split('\\\\')[0] for h in data[0]]\n",
    "    rows = data[1:]\n",
    "\n",
    "    df = spark.createDataFrame(rows,header)\n",
    "    return df\n",
    "\n",
    "def get_mapping_spark_df(code, param):\n",
    "\n",
    "    rows = eurostat.get_dic(code,param)\n",
    "    headers = ['value','description']\n",
    "\n",
    "    df = spark.createDataFrame(rows,headers)\n",
    "    return df\n",
    "\n",
    "eu_iso2_codes = [\n",
    "    \"AT\", \"BE\", \"BG\", \"HR\", \"CY\", \"CZ\", \"DK\", \"EE\", \"FI\", \"FR\",\n",
    "    \"DE\", \"EL\", \"HU\", \"IE\", \"IT\", \"LV\", \"LT\", \"LU\", \"MT\", \"NL\",\n",
    "    \"PL\", \"PT\", \"RO\", \"SK\", \"SI\", \"ES\", \"SE\"\n",
    "]"
   ]
  },
  {
   "cell_type": "markdown",
   "metadata": {
    "application/vnd.databricks.v1+cell": {
     "cellMetadata": {},
     "inputWidgets": {},
     "nuid": "d2a30838-b849-44a9-8ba2-5b932e6cf846",
     "showTitle": false,
     "tableResultSettingsMap": {},
     "title": ""
    }
   },
   "source": [
    "#####Population Split"
   ]
  },
  {
   "cell_type": "code",
   "execution_count": 0,
   "metadata": {
    "application/vnd.databricks.v1+cell": {
     "cellMetadata": {
      "byteLimit": 2048000,
      "rowLimit": 10000
     },
     "inputWidgets": {},
     "nuid": "c1915d26-826b-4851-a357-f452b1f3daca",
     "showTitle": false,
     "tableResultSettingsMap": {},
     "title": ""
    }
   },
   "outputs": [],
   "source": [
    "# Population on 1 January by age, sex\n",
    "code = 'demo_pjan'\n",
    "\n",
    "# load data from API\n",
    "df = get_data_spark_df(code)\n",
    "\n",
    "# perform all the transformations\n",
    "df_transformed = df \\\n",
    "    .withColumnsRenamed({'geo':'Country_Code'}) \\\n",
    "    .withColumn('Age',regexp_replace('age','Y','').try_cast('int')) \\\n",
    "    .filter( \n",
    "        (df.sex.isin(['M','F'])) & \n",
    "        (col('Country_Code').isin(eu_iso2_codes)) &\n",
    "        (col('Age').isNotNull())) \\\n",
    "    .select('Age','Sex','Country_Code','2016','2019','2022') \\\n",
    "    .unpivot(\n",
    "        ['Age','Sex','Country_Code'],\n",
    "        ['2016','2019','2022'], 'Year', 'Population') \\\n",
    "    .filter(col('Population') > 0)\n",
    "\n",
    "# create UC table\n",
    "unity_catalog_table_name = 'workspace.general.population_split'\n",
    "df_transformed.write.option('mergeSchema', 'true').mode('overwrite').saveAsTable(unity_catalog_table_name)\n"
   ]
  },
  {
   "cell_type": "markdown",
   "metadata": {
    "application/vnd.databricks.v1+cell": {
     "cellMetadata": {},
     "inputWidgets": {},
     "nuid": "715751e9-9ac3-470a-9251-1e01b9ee14f3",
     "showTitle": false,
     "tableResultSettingsMap": {},
     "title": ""
    }
   },
   "source": [
    "##### Healthcare Expenditure"
   ]
  },
  {
   "cell_type": "code",
   "execution_count": 0,
   "metadata": {
    "application/vnd.databricks.v1+cell": {
     "cellMetadata": {
      "byteLimit": 2048000,
      "rowLimit": 10000
     },
     "inputWidgets": {},
     "nuid": "a386f03e-cb0b-407e-8f2a-51a9c3e89b00",
     "showTitle": false,
     "tableResultSettingsMap": {},
     "title": ""
    }
   },
   "outputs": [],
   "source": [
    "# health care expenditure by financing scheme\n",
    "code = 'hlth_sha11_hf'\n",
    "\n",
    "# load data from API\n",
    "data = get_data_spark_df(code)\n",
    "map_health = get_mapping_spark_df(code,'icha11_hf')\n",
    "map_unit = get_mapping_spark_df(code,'unit')\n",
    "\n",
    "# base codes of expenditure classification\n",
    "sha_11_codes = ['HF1','HF2','HF3','HF4']\n",
    "\n",
    "# do transformations for final df\n",
    "df_transformed = data \\\n",
    "    .withColumnRenamed('geo','Country_Code').withColumnRenamed('icha11_hf','SHA_11') \\\n",
    "    .filter(\n",
    "        (col('Country_Code').isin(eu_iso2_codes)) & \n",
    "        (col('SHA_11').isin(sha_11_codes))) \\\n",
    "    .join( map_health, col('SHA_11') == map_health.value, 'left' ) \\\n",
    "    .join( map_unit, col('unit') == map_unit.value, 'left' ) \\\n",
    "    .select('SHA_11','Country_Code','2016','2019','2022', \n",
    "            map_health.description.alias('Financing_schema'), map_unit.description.alias('unit')) \\\n",
    "    .withColumn('Financing_type',\n",
    "        when(col('SHA_11') == 'HF1', 'Government and compulsory schemes')\n",
    "        .when(col('SHA_11') == 'HF2', 'Voluntary schemes')\n",
    "        .when(col('SHA_11') == 'HF3', 'Out-of-pocket payments')\n",
    "        .otherwise('Rest of world')) \\\n",
    "    .unpivot(\n",
    "        ['Country_Code','Financing_schema','unit','SHA_11','Financing_type'], \n",
    "        ['2016','2019','2022'], 'Year', 'Value') \\\n",
    "    .groupBy('Country_Code','Year','SHA_11','Financing_type','Financing_schema').pivot('unit').max('Value')\n",
    "\n",
    "# remove spaces or other illegal characters from column names\n",
    "df_final = df_transformed.toDF(*[re.sub(r'[^0-9a-zA-Z_]','_',c) for c in df_transformed.columns])\n",
    "\n",
    "# create UC table\n",
    "unity_catalog_table_name = 'workspace.eurostat.healthcare_expenditure'\n",
    "df_final.write.option('mergeSchema', 'true').mode('overwrite').saveAsTable(unity_catalog_table_name)\n"
   ]
  },
  {
   "cell_type": "markdown",
   "metadata": {
    "application/vnd.databricks.v1+cell": {
     "cellMetadata": {},
     "inputWidgets": {},
     "nuid": "5d6963e2-d86c-4da6-b84e-31361abfa8ef",
     "showTitle": false,
     "tableResultSettingsMap": {},
     "title": ""
    }
   },
   "source": [
    "##### Own Health Assesement"
   ]
  },
  {
   "cell_type": "code",
   "execution_count": 0,
   "metadata": {
    "application/vnd.databricks.v1+cell": {
     "cellMetadata": {
      "byteLimit": 2048000,
      "rowLimit": 10000
     },
     "inputWidgets": {},
     "nuid": "093b8b4e-f9de-4557-9c7d-203741d05d2e",
     "showTitle": false,
     "tableResultSettingsMap": {},
     "title": ""
    }
   },
   "outputs": [],
   "source": [
    "# Self-perceived health by sex, age and educational attainment level\n",
    "code = 'hlth_silc_02'\n",
    "\n",
    "# load data from API\n",
    "data = get_data_spark_df(code)\n",
    "map_levels = get_mapping_spark_df(code,'levels')\n",
    "population = spark.read.table('workspace.general.population_split')\n",
    "\n",
    "# do transformations for final df\n",
    "df_transformed = data \\\n",
    "    .withColumnsRenamed({'geo':'Country_Code', 'age':'Age_Group'}) \\\n",
    "    .filter( \n",
    "        (col('Country_Code').isin(eu_iso2_codes)) &\n",
    "        (col('levels').isin(['VGOOD', 'GOOD', 'FAIR', 'BAD', 'VBAD'])) &\n",
    "        (col('isced11') == 'TOTAL') &\n",
    "        (col('sex').isin(['M','F'])) &\n",
    "        (col('Age_Group').isin(['Y16-24', 'Y25-34', 'Y35-44', 'Y45-54', 'Y55-64', 'Y_GE65']))) \\\n",
    "    .withColumn('Age_Group', when(col('Age_Group') == 'Y_GE65', 'Y65+').otherwise(col('Age_Group'))) \\\n",
    "    .join( map_levels, data.levels == map_levels.value, 'left' ) \\\n",
    "    .select('Age_Group','Country_Code','sex', '2016','2019','2022', map_levels.description.alias('Health_Assesement')) \\\n",
    "    .unpivot(\n",
    "        ['Age_Group','Country_Code','Sex','Health_Assesement'], \n",
    "        ['2016','2019','2022'], 'Year', 'Percentage')\n",
    "\n",
    "# joining actual population numbers to calculate number of people in each category from percantage info\n",
    "df_final = df_transformed.alias('d') \\\n",
    "    .join(population.alias('p'),\n",
    "        (col('d.Country_Code') == col('p.Country_Code')) & \n",
    "        (col('d.Sex')==col('p.Sex')) & \n",
    "        (col('d.Year')==col('p.Year')) &\n",
    "        (col('d.Age_Group') == when(col('p.Age') >= 65, 'Y65+')\n",
    "        .when(col('p.Age') >= 55, 'Y55-64')\n",
    "        .when(col('p.Age') >= 45, 'Y45-54')\n",
    "        .when(col('p.Age') >= 35, 'Y35-44')\n",
    "        .when(col('p.Age') >= 25, 'Y25-34')\n",
    "        .when(col('p.Age') >= 16, 'Y16-24')\n",
    "        .otherwise('0')),'left') \\\n",
    "    .select('d.*' , 'Population') \\\n",
    "    .groupBy(df_transformed.columns).agg(sum('Population').alias('Population')) \\\n",
    "    .withColumn('Number_of_People', ((col('Percentage')/100)*col('Population')).cast('int')) \\\n",
    "    .drop('Population', 'Percentage')\n",
    "\n",
    "# create UC table\n",
    "unity_catalog_table_name = 'workspace.eurostat.own_health_assesement'\n",
    "df_final.write.option('mergeSchema', 'true').mode('overwrite').saveAsTable(unity_catalog_table_name)\n"
   ]
  },
  {
   "cell_type": "markdown",
   "metadata": {
    "application/vnd.databricks.v1+cell": {
     "cellMetadata": {},
     "inputWidgets": {},
     "nuid": "787f237c-11ee-4c94-92ec-664fddbdb355",
     "showTitle": false,
     "tableResultSettingsMap": {},
     "title": ""
    }
   },
   "source": [
    "#### Additional Dim Tables"
   ]
  },
  {
   "cell_type": "markdown",
   "metadata": {
    "application/vnd.databricks.v1+cell": {
     "cellMetadata": {},
     "inputWidgets": {},
     "nuid": "96d56b6a-41b6-4514-bf6d-7fcafecf146f",
     "showTitle": false,
     "tableResultSettingsMap": {},
     "title": ""
    }
   },
   "source": [
    "##### Countries Information\n",
    "Use Gemin API for structured output: https://ai.google.dev/gemini-api/docs/structured-output?hl=pl<br>\n",
    "Configuring google-genai module: https://pypi.org/project/google-genai/"
   ]
  },
  {
   "cell_type": "code",
   "execution_count": 0,
   "metadata": {
    "application/vnd.databricks.v1+cell": {
     "cellMetadata": {
      "byteLimit": 2048000,
      "rowLimit": 10000
     },
     "inputWidgets": {},
     "nuid": "09dc61e5-95ca-4941-b52a-aefbde78425d",
     "showTitle": false,
     "tableResultSettingsMap": {},
     "title": ""
    }
   },
   "outputs": [],
   "source": [
    "# create LLM function to generate structured dictionary with country information\n",
    "def ask_gemini(prompt:str) -> list:\n",
    "\n",
    "    class Country(BaseModel):\n",
    "        Country_Name: str\n",
    "        Country_ISO2_code: str\n",
    "        Capital_City: str\n",
    "        Currency_Name: str\n",
    "        Currency_Code: str\n",
    "        Estimated_Population: int\n",
    "        Year_of_joining_EU: int\n",
    "\n",
    "    secret_value = dbutils.secrets.get(scope = \"ai-secrets\", key = \"gemini-api\")\n",
    "    client = genai.Client(api_key=secret_value)\n",
    "\n",
    "    response = client.models.generate_content(\n",
    "        model=\"gemini-2.5-flash\",\n",
    "        contents=prompt,\n",
    "        config={\n",
    "            \"response_mime_type\": \"application/json\",\n",
    "            \"response_schema\": list[Country]\n",
    "        },\n",
    "    )\n",
    "\n",
    "    result_list = json.loads(response.text)\n",
    "    return result_list\n",
    "\n",
    "# generate dict content and load it to spark dataframe\n",
    "countries_dict = ask_gemini(\"List all current EU member countries and provide some additional information\")\n",
    "df = spark.createDataFrame(countries_dict)\n"
   ]
  },
  {
   "cell_type": "code",
   "execution_count": 0,
   "metadata": {
    "application/vnd.databricks.v1+cell": {
     "cellMetadata": {
      "byteLimit": 2048000,
      "rowLimit": 10000
     },
     "inputWidgets": {},
     "nuid": "21b91aa7-aea0-41c8-98cd-2800afead861",
     "showTitle": false,
     "tableResultSettingsMap": {},
     "title": ""
    }
   },
   "outputs": [],
   "source": [
    "# add some more columns based on data created by LLM\n",
    "df_final = df \\\n",
    "    .withColumn('Country_Size', \n",
    "        when(col('Estimated_Population') <= 6 * pow(10,6), 'Small')\n",
    "        .when(col('Estimated_Population') <= 20 * pow(10,6), 'Medium')\n",
    "        .otherwise('Big')\n",
    "    ) \\\n",
    "    .withColumn('Currency_Zone',\n",
    "        when(col('Currency_Code') == 'EUR', 'Euro Zone')\n",
    "        .otherwise('National Currency')\n",
    "    ) \\\n",
    "    .withColumn('EU_Member_Status',\n",
    "        when(col('Year_of_joining_EU') < 2000, 'Old Member')\n",
    "        .otherwise('New Member')\n",
    "    )\n",
    "# display(df_augmented)\n",
    "\n",
    "# create UC table\n",
    "unity_catalog_table_name = 'workspace.eurostat.dim_countries'\n",
    "df_final.write.option('mergeSchema', 'true').mode('overwrite').saveAsTable(unity_catalog_table_name)\n"
   ]
  },
  {
   "cell_type": "markdown",
   "metadata": {
    "application/vnd.databricks.v1+cell": {
     "cellMetadata": {},
     "inputWidgets": {},
     "nuid": "5e91bf09-476c-4cd9-82df-e72d853f1ea9",
     "showTitle": false,
     "tableResultSettingsMap": {},
     "title": ""
    }
   },
   "source": [
    "####Semantic layer\n",
    "Creating comment descriptions for tables and columns that can be used by AI agent for providing more context data and generating better answers<br>\n",
    "For more complex data one can utilize metric views to get more robust approach: https://docs.databricks.com/aws/en/metric-views/"
   ]
  },
  {
   "cell_type": "code",
   "execution_count": 0,
   "metadata": {
    "application/vnd.databricks.v1+cell": {
     "cellMetadata": {
      "byteLimit": 2048000,
      "implicitDf": true,
      "rowLimit": 10000
     },
     "inputWidgets": {},
     "nuid": "87004cac-34bb-45f8-881b-c7e17d829d77",
     "showTitle": false,
     "tableResultSettingsMap": {},
     "title": ""
    },
    "jupyter": {
     "outputs_hidden": true
    }
   },
   "outputs": [
    {
     "output_type": "stream",
     "name": "stdout",
     "output_type": "stream",
     "text": [
      "Executing subquery: describe workspace.eurostat.healthcare_expenditure.\nExecuting subquery: DROP TABLE IF EXISTS workspace.eurostat.population_split.\nExecuting subquery: USE CATALOG workspace.\nExecuting subquery: USE SCHEMA eurostat.\nExecuting subquery: -- own_health_assesement ------------------------------------------------------------------\n\n-- -- table ------------------------------------------------------------------------------\nCOMMENT ON TABLE own_health_assesement IS\n'This table contains the self-reported subjective 5-level health assesment of the population with additional split by age group, sex and year. Main numeric column for calculations is Number_of_People'.\nExecuting subquery: -- -- columns ---------------------------------------------------------------------------\nCOMMENT ON COLUMN own_health_assesement.Age_Group IS\n'Segements of the population by age group, defined within 10 year buckets, starting from 16 years old. Unique values are Y16-24, Y25-34, Y35-44, Y45-54, Y55-64, 65+'.\nExecuting subquery: COMMENT ON COLUMN own_health_assesement.Country_Code IS\n'ISO2 country codes of all current EU member states. Column is a foreign key to Country_ISO2_code column in dim_countries table where the additional country info like country name is stored'.\nExecuting subquery: COMMENT ON COLUMN own_health_assesement.Health_Assesement IS\n'The subjective assesement of reported health status. It is measured using some variant of Likert scale, where \"very bad\" and \"bad\" are used to indicate negative assesemnt, \"good\" and \"very good\" are used to indicate positive assesment and \"fair\" means neutral'.\nExecuting subquery: COMMENT ON COLUMN own_health_assesement.Sex IS\n'Sex of the population. Unique values are \"M\" for male and \"F\" for female'.\nExecuting subquery: COMMENT ON COLUMN own_health_assesement.Year IS\n'Year of the research by eurostat. Unique values are 2016, 2019, 2022'.\nExecuting subquery: -- healthcare_expenditure ----------------------------------------------------------------\n\n-- -- table ------------------------------------------------------------------------------\nCOMMENT ON TABLE healthcare_expenditure IS\n'Table contains information about expenditures related to health and healthcare in all EU countries, measured using different units and classified usning SHA-11 classification system'.\nExecuting subquery: -- -- columns ----------------------------------------------------------------------------\nCOMMENT ON COLUMN healthcare_expenditure.Country_Code IS\n'ISO2 country codes of all current EU member states. Column is a foreign key to Country_ISO2_code column in dim_countries table where the additional country info like country name is stored'.\nExecuting subquery: COMMENT ON COLUMN healthcare_expenditure.Year IS\n'Year of the research by eurostat. Unique values are 2016, 2019, 2022'.\nExecuting subquery: COMMENT ON COLUMN healthcare_expenditure.SHA_11 IS\n'Codes from System of Health Accounts - statistical reference manual giving a comprehensive description of the financial flows in health care.'.\nExecuting subquery: COMMENT ON COLUMN healthcare_expenditure.Finacing_schema IS\n'Full cliassification names taken from SHA11 system.'.\nExecuting subquery: USE CATALOG workspace.\nExecuting subquery: USE SCHEMA eurostat.\nExecuting subquery: -- own_health_assesement ------------------------------------------------------------------\n\n-- -- table ------------------------------------------------------------------------------\nCOMMENT ON TABLE own_health_assesement IS\n'This table contains the self-reported subjective 5-level health assesment of the population with additional split by age group, sex and year. Main numeric column for calculations is Number_of_People'.\nExecuting subquery: -- -- columns ---------------------------------------------------------------------------\nCOMMENT ON COLUMN own_health_assesement.Age_Group IS\n'Segements of the population by age group, defined within 10 year buckets, starting from 16 years old. Unique values are Y16-24, Y25-34, Y35-44, Y45-54, Y55-64, 65+'.\nExecuting subquery: COMMENT ON COLUMN own_health_assesement.Country_Code IS\n'ISO2 country codes of all current EU member states. Column is a foreign key to Country_ISO2_code column in dim_countries table where the additional country info like country name is stored'.\nExecuting subquery: COMMENT ON COLUMN own_health_assesement.Health_Assesement IS\n'The subjective assesement of reported health status. It is measured using some variant of Likert scale, where \"very bad\" and \"bad\" are used to indicate negative assesemnt, \"good\" and \"very good\" are used to indicate positive assesment and \"fair\" means neutral'.\nExecuting subquery: COMMENT ON COLUMN own_health_assesement.Sex IS\n'Sex of the population. Unique values are \"M\" for male and \"F\" for female'.\nExecuting subquery: COMMENT ON COLUMN own_health_assesement.Year IS\n'Year of the research by eurostat. Unique values are 2016, 2019, 2022'.\nExecuting subquery: -- healthcare_expenditure ----------------------------------------------------------------\n\n-- -- table ------------------------------------------------------------------------------\nCOMMENT ON TABLE healthcare_expenditure IS\n'Table contains information about expenditures related to health and healthcare in all EU countries, measured using different units and classified usning SHA-11 classification system'.\nExecuting subquery: -- -- columns ----------------------------------------------------------------------------\nCOMMENT ON COLUMN healthcare_expenditure.Country_Code IS\n'ISO2 country codes of all current EU member states. Column is a foreign key to Country_ISO2_code column in dim_countries table where the additional country info like country name is stored'.\nExecuting subquery: COMMENT ON COLUMN healthcare_expenditure.Year IS\n'Year of the research by eurostat. Unique values are 2016, 2019, 2022'.\nExecuting subquery: COMMENT ON COLUMN healthcare_expenditure.SHA_11 IS\n'Codes from System of Health Accounts - statistical reference manual giving a comprehensive description of the financial flows in health care.'.\nExecuting subquery: COMMENT ON COLUMN healthcare_expenditure.Financing_schema IS\n'Full cliassification names taken from SHA11 system.'.\nExecuting subquery: COMMENT ON COLUMN healthcare_expenditure.Financing_type IS\n'Shorten names of SHA11 categories. Column can be used for comparing public vs private spending, with \"Government and compulsory schemes\" indicating public and \"Out-of-pocket payments\" + \"Voulntary schemes\" private. Other forth option is called \"Rest of world\"'.\nExecuting subquery: COMMENT ON COLUMN healthcare_expenditure.Million_euro IS\n'Expenditure in millions of euro. Sum of the column is the default total value of overall spending'.\nExecuting subquery: COMMENT ON COLUMN healthcare_expenditure.Euro_per_inhabitant IS\n'Expenditure amount in euro calculated per single inidividual. Good for comparing spending between countries with different population'.\nExecuting subquery: COMMENT ON COLUMN healthcare_expenditure.Million_purchasing_power_standards__PPS_ IS\n'Expenditure in millions of euro wieghted by Purchasing Power Standard for each country. Sum of the column is more balaced total value of overall spending adjusting for differences between local economies'.\nExecuting subquery: COMMENT ON COLUMN healthcare_expenditure.Purchasing_power_standard__PPS__per_inhabitant IS\n'Expenditure per single inidividual in euro but wieghted by Purchasing Power Standard. Allow comparison between countries adjusted for differences in population size and local prices'.\nExecuting subquery: COMMENT ON COLUMN healthcare_expenditure.Million_units_of_national_currency IS\n'Total expenditure in millions of national currency. To be avoided for comparisons between countries'.\nExecuting subquery: COMMENT ON COLUMN healthcare_expenditure.National_currency_per_inhabitant IS\n'Expenditure per single inidividual in national currency. To be avoided for comparisons between countries'.\nExecuting subquery: COMMENT ON COLUMN healthcare_expenditure.Percentage_of_gross_domestic_product__GDP_ IS\n'Percentage of healthcare expenditure in relation to Gross Domestic Product of the country. Sum of the column is best for comapring spending between countries'."
     ]
    }
   ],
   "source": [
    "%sql\n",
    "\n",
    "USE CATALOG workspace;\n",
    "USE SCHEMA eurostat;\n",
    "\n",
    "-- own_health_assesement ------------------------------------------------------------------\n",
    "\n",
    "-- -- table ------------------------------------------------------------------------------\n",
    "COMMENT ON TABLE own_health_assesement IS\n",
    "'This table contains the self-reported subjective 5-level health assesment of the population with additional split by age group, sex and year. Main numeric column for calculations is Number_of_People';\n",
    "\n",
    "-- -- columns ---------------------------------------------------------------------------\n",
    "COMMENT ON COLUMN own_health_assesement.Age_Group IS\n",
    "'Segements of the population by age group, defined within 10 year buckets, starting from 16 years old. Unique values are Y16-24, Y25-34, Y35-44, Y45-54, Y55-64, 65+';\n",
    "  \n",
    "COMMENT ON COLUMN own_health_assesement.Country_Code IS\n",
    "'ISO2 country codes of all current EU member states. Column is a foreign key to Country_ISO2_code column in dim_countries table where the additional country info like country name is stored';\n",
    "\n",
    "COMMENT ON COLUMN own_health_assesement.Health_Assesement IS\n",
    "'The subjective assesement of reported health status. It is measured using some variant of Likert scale, where \"very bad\" and \"bad\" are used to indicate negative assesemnt, \"good\" and \"very good\" are used to indicate positive assesment and \"fair\" means neutral';\n",
    "\n",
    "COMMENT ON COLUMN own_health_assesement.Sex IS\n",
    "'Sex of the population. Unique values are \"M\" for male and \"F\" for female';\n",
    "\n",
    "COMMENT ON COLUMN own_health_assesement.Year IS\n",
    "'Year of the research by eurostat. Unique values are 2016, 2019, 2022';\n",
    "\n",
    "-- healthcare_expenditure ----------------------------------------------------------------\n",
    "\n",
    "-- -- table ------------------------------------------------------------------------------\n",
    "COMMENT ON TABLE healthcare_expenditure IS\n",
    "'Table contains information about expenditures related to health and healthcare in all EU countries, measured using different units and classified usning SHA-11 classification system';\n",
    "\n",
    "-- -- columns ----------------------------------------------------------------------------\n",
    "COMMENT ON COLUMN healthcare_expenditure.Country_Code IS\n",
    "'ISO2 country codes of all current EU member states. Column is a foreign key to Country_ISO2_code column in dim_countries table where the additional country info like country name is stored';\n",
    "\n",
    "COMMENT ON COLUMN healthcare_expenditure.Year IS\n",
    "'Year of the research by eurostat. Unique values are 2016, 2019, 2022';\n",
    "\n",
    "COMMENT ON COLUMN healthcare_expenditure.SHA_11 IS\n",
    "'Codes from System of Health Accounts - statistical reference manual giving a comprehensive description of the financial flows in health care.';\n",
    "\n",
    "COMMENT ON COLUMN healthcare_expenditure.Financing_schema IS\n",
    "'Full cliassification names taken from SHA11 system.';\n",
    "\n",
    "COMMENT ON COLUMN healthcare_expenditure.Financing_type IS\n",
    "'Shorten names of SHA11 categories. Column can be used for comparing public vs private spending, with \"Government and compulsory schemes\" indicating public and \"Out-of-pocket payments\" + \"Voulntary schemes\" private. Other forth option is called \"Rest of world\"';\n",
    "\n",
    "COMMENT ON COLUMN healthcare_expenditure.Million_euro IS\n",
    "'Expenditure in millions of euro. Sum of the column is the default total value of overall spending';\n",
    "\n",
    "COMMENT ON COLUMN healthcare_expenditure.Euro_per_inhabitant IS\n",
    "'Expenditure amount in euro calculated per single inidividual. Good for comparing spending between countries with different population';\n",
    "\n",
    "COMMENT ON COLUMN healthcare_expenditure.Million_purchasing_power_standards__PPS_ IS\n",
    "'Expenditure in millions of euro wieghted by Purchasing Power Standard for each country. Sum of the column is more balaced total value of overall spending adjusting for differences between local economies';\n",
    "\n",
    "COMMENT ON COLUMN healthcare_expenditure.Purchasing_power_standard__PPS__per_inhabitant IS\n",
    "'Expenditure per single inidividual in euro but wieghted by Purchasing Power Standard. Allow comparison between countries adjusted for differences in population size and local prices';\n",
    "\n",
    "COMMENT ON COLUMN healthcare_expenditure.Million_units_of_national_currency IS\n",
    "'Total expenditure in millions of national currency. To be avoided for comparisons between countries';\n",
    "\n",
    "COMMENT ON COLUMN healthcare_expenditure.National_currency_per_inhabitant IS\n",
    "'Expenditure per single inidividual in national currency. To be avoided for comparisons between countries';\n",
    "\n",
    "COMMENT ON COLUMN healthcare_expenditure.Percentage_of_gross_domestic_product__GDP_ IS\n",
    "'Percentage of healthcare expenditure in relation to Gross Domestic Product of the country. Sum of the column is best for comapring spending between countries';\n",
    "\n",
    "-- dim_countries ---------------------------------------------------------------------------\n",
    "\n",
    "-- -- table -------------------------------------------------------------------------------\n",
    "COMMENT ON TABLE dim_countries IS\n",
    "'Table contains additional information about all EU countries providing some additional context for data in other tables';\n",
    "\n",
    "-- -- columns -----------------------------------------------------------------------------\n",
    "COMMENT ON COLUMN dim_countries.Country_size IS\n",
    "'Country classification by population size. Countires below 6 millions inhibitants are called small, between 6 and 20 millions medium, above 20 millions big';\n",
    "\n",
    "COMMENT ON COLUMN dim_countries.Capital_City IS\n",
    "'Column distinguishes between countries in \"Euro Zone\" and the ones with \"National Currency';\n",
    "\n",
    "COMMENT ON COLUMN dim_countries.EU_Member_Status IS\n",
    "'Countries that joined EU before 2000 are called \"Old Member\" whereas the ones that joined after that are \"New Member\"'\n"
   ]
  }
 ],
 "metadata": {
  "application/vnd.databricks.v1+notebook": {
   "computePreferences": null,
   "dashboards": [],
   "environmentMetadata": {
    "base_environment": "",
    "environment_version": "2"
   },
   "inputWidgetPreferences": null,
   "language": "python",
   "notebookMetadata": {
    "mostRecentlyExecutedCommandWithImplicitDF": {
     "commandId": 7089765013090541,
     "dataframes": [
      "_sqldf"
     ]
    },
    "pythonIndentUnit": 4
   },
   "notebookName": "Load and Transform",
   "widgets": {}
  },
  "language_info": {
   "name": "python"
  }
 },
 "nbformat": 4,
 "nbformat_minor": 0
}